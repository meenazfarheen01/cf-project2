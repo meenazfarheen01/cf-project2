{
 "cells": [
  {
   "cell_type": "code",
   "execution_count": 2,
   "metadata": {},
   "outputs": [
    {
     "name": "stdout",
     "output_type": "stream",
     "text": [
      "Player 1: Select Rock(r)/Paper(p)/Scissors(s): r\n",
      "Player 1: Select Rock(r)/Paper(p)/Scissors(s): p\n",
      "Player 2 won\n",
      "The scores of player1 and player2 are 0 1\n",
      "Player 1: Select Rock(r)/Paper(p)/Scissors(s): r\n",
      "Player 1: Select Rock(r)/Paper(p)/Scissors(s): s\n",
      "Player 1 won\n",
      "The scores of player1 and player2 are 1 1\n",
      "Player 1: Select Rock(r)/Paper(p)/Scissors(s): s\n",
      "Player 1: Select Rock(r)/Paper(p)/Scissors(s): s\n",
      "Draw\n",
      "The scores of player1 and player2 are 1 1\n",
      "Player 1: Select Rock(r)/Paper(p)/Scissors(s): p\n",
      "Player 1: Select Rock(r)/Paper(p)/Scissors(s): r\n",
      "Player 1 won\n",
      "The scores of player1 and player2 are 2 1\n",
      "Player 1: Select Rock(r)/Paper(p)/Scissors(s): p\n",
      "Player 1: Select Rock(r)/Paper(p)/Scissors(s): s\n",
      "Player 2 won\n",
      "The scores of player1 and player2 are 2 2\n"
     ]
    }
   ],
   "source": [
    "i=0\n",
    "s1=0\n",
    "s2=0\n",
    "while(i<5):\n",
    "    p1=input(\"Player 1: Select Rock(r)/Paper(p)/Scissors(s): \")\n",
    "    p2=input(\"Player 1: Select Rock(r)/Paper(p)/Scissors(s): \")\n",
    "    if p1=='r':\n",
    "        if p2=='r':\n",
    "            print(\"Draw\")\n",
    "        elif p2=='p':\n",
    "            print(\"Player 2 won\")\n",
    "            s2+=1\n",
    "        else:\n",
    "            print(\"Player 1 won\")\n",
    "            s1+=1\n",
    "    elif p1=='p':\n",
    "        if p2=='r':\n",
    "            print(\"Player 1 won\")\n",
    "            s1+=1\n",
    "        elif p2=='p':\n",
    "            print(\"Draw\")\n",
    "        else:\n",
    "            print(\"Player 2 won\")\n",
    "            s2+=1\n",
    "    else:\n",
    "        if p2=='r':\n",
    "            print(\"Player 2 won\")\n",
    "            s2+=1\n",
    "        elif p2=='p':\n",
    "            print(\"Player 1 won\")\n",
    "            s1+=1\n",
    "        else:\n",
    "            print(\"Draw\")\n",
    "    print(\"The scores of player1 and player2 are\",s1,s2)   \n",
    "    i+=1"
   ]
  },
  {
   "cell_type": "code",
   "execution_count": null,
   "metadata": {},
   "outputs": [],
   "source": []
  }
 ],
 "metadata": {
  "kernelspec": {
   "display_name": "Python 3",
   "language": "python",
   "name": "python3"
  },
  "language_info": {
   "codemirror_mode": {
    "name": "ipython",
    "version": 3
   },
   "file_extension": ".py",
   "mimetype": "text/x-python",
   "name": "python",
   "nbconvert_exporter": "python",
   "pygments_lexer": "ipython3",
   "version": "3.8.5"
  }
 },
 "nbformat": 4,
 "nbformat_minor": 4
}
